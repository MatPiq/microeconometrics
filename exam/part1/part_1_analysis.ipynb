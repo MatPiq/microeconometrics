{
 "cells": [
  {
   "cell_type": "markdown",
   "metadata": {},
   "source": [
    "# Project 1: Linear Panel Data and Production Technology\n",
    "\n",
    "*Authors*: Matias Piqueras, Sebastian Hørlück\n",
    "\n",
    "This notebook contains the code to generate the output in *Project 1: Linear Panel Data and Production Technology*. The data, as given by the `read.ipynb` file, contains `N = 441` firms observed over `T = 12` years, 1968-1979. The variables are: \n",
    "* `lcap`: Log of capital stock, $k_{it}$ \n",
    "* `lemp`: log of employment, $\\ell_{it}$ \n",
    "* `ldsa`: log of deflated sales, $y_{it}$\n",
    "* `year`: the calendar year of the observation, `year` $ = 1968, ..., 1979$, \n",
    "* `firmid`: anonymized indicator variable for the firm, $i = 1, ..., N$, with $N=441$. "
   ]
  },
  {
   "cell_type": "code",
   "execution_count": 1,
   "metadata": {},
   "outputs": [],
   "source": [
    "#Add dir to import module because its in different dir. Change accordingingly.\n",
    "import sys\n",
    "import numpy as np\n",
    "import pandas as pd\n",
    "from panel import PlmFormula\n",
    "from model_selection import wald_test, serial_correlation, hausman_test\n",
    "%load_ext autoreload\n",
    "%autoreload 2\n",
    "\n",
    "#Import data and set multi-index\n",
    "dat = pd.read_csv('firms.csv')\n",
    "#Create leads\n",
    "dat['lcap_lead'] = dat.groupby(['firmid'])['lcap'].shift(-1)\n",
    "dat['lemp_lead'] = dat.groupby(['firmid'])['lemp'].shift(-1)\n",
    "#Create lags\n",
    "dat['lcap_lag'] = dat.groupby(['firmid'])['lcap'].shift(1)\n",
    "dat['lemp_lag'] = dat.groupby(['firmid'])['lemp'].shift(1)\n",
    "\n",
    "#Set multi-index\n",
    "dat = dat.set_index([\"firmid\", \"year\"])"
   ]
  },
  {
   "cell_type": "markdown",
   "metadata": {},
   "source": [
    "## Modeling: Fixed effects and first-difference"
   ]
  },
  {
   "cell_type": "markdown",
   "metadata": {},
   "source": [
    "We estimated the following models bellow:\n",
    "* `Fixed-Effects Estimator`\n",
    "* `First-Difference Estimator`"
   ]
  },
  {
   "cell_type": "markdown",
   "metadata": {},
   "source": [
    "We start by fixed effects estimated as\n",
    "\n",
    "$$\\ddot{y}_{i t} = \\beta_{K} \\ddot{k}_{i t} + \\beta_{L} \\ddot{\\ell}_{i t} + \\ddot{u}_{i t}$$"
   ]
  },
  {
   "cell_type": "code",
   "execution_count": 2,
   "metadata": {},
   "outputs": [
    {
     "name": "stdout",
     "output_type": "stream",
     "text": [
      "            Results\n",
      "_________________________________\n",
      "‾‾‾‾‾‾‾‾‾‾‾‾‾‾‾‾‾‾‾‾‾‾‾‾‾‾‾‾‾‾‾‾‾\n",
      "Dependent variable: ldsa\n",
      "\n",
      "      Beta         Se    t-values\n",
      "----  --------  -----  ----------\n",
      "lcap  0.155***  0.030       5.163\n",
      "lemp  0.694***  0.042      16.667\n",
      "_________________________________ \n",
      "\n",
      "R² = 0.477\n",
      "Adj R² = 0.476\n",
      "σ² = 0.018\n",
      "Model: Fixed effects\n",
      "No. observations: 5292\n",
      "No. timeperiods: 12\n",
      "_________________________________\n",
      "‾‾‾‾‾‾‾‾‾‾‾‾‾‾‾‾‾‾‾‾‾‾‾‾‾‾‾‾‾‾‾‾‾\n",
      "Note: ∗p<0.1;∗∗p<0.05;∗∗∗p<0.01\n",
      "Heteroscedastic robust standard errors.\n"
     ]
    }
   ],
   "source": [
    "fe = PlmFormula(formula='ldsa ~ lcap + lemp', model=\"fe\", data=dat,\n",
    "                 include_intercept=False, cov_method = \"robust\").fit()\n",
    "\n",
    "fe.summary()"
   ]
  },
  {
   "cell_type": "markdown",
   "metadata": {},
   "source": [
    "Here we estimate\n",
    "\n",
    "$$\\Delta y_{i t} = \\beta_{K} \\Delta k_{i t} + \\beta_{L} \\Delta \\ell_{i t} + \\Delta u_{i t}$$"
   ]
  },
  {
   "cell_type": "code",
   "execution_count": 3,
   "metadata": {},
   "outputs": [
    {
     "name": "stdout",
     "output_type": "stream",
     "text": [
      "            Results\n",
      "_________________________________\n",
      "‾‾‾‾‾‾‾‾‾‾‾‾‾‾‾‾‾‾‾‾‾‾‾‾‾‾‾‾‾‾‾‾‾\n",
      "Dependent variable: ldsa\n",
      "\n",
      "      Beta         Se    t-values\n",
      "----  --------  -----  ----------\n",
      "lcap  0.063***  0.023       2.746\n",
      "lemp  0.549***  0.028      19.306\n",
      "_________________________________ \n",
      "\n",
      "R² = 0.165\n",
      "Adj R² = 0.164\n",
      "σ² = 0.014\n",
      "Model: First-difference\n",
      "No. observations: 4851\n",
      "No. timeperiods: 12\n",
      "_________________________________\n",
      "‾‾‾‾‾‾‾‾‾‾‾‾‾‾‾‾‾‾‾‾‾‾‾‾‾‾‾‾‾‾‾‾‾\n",
      "Note: ∗p<0.1;∗∗p<0.05;∗∗∗p<0.01\n",
      "Heteroscedastic robust standard errors.\n"
     ]
    }
   ],
   "source": [
    "fd = PlmFormula(formula='ldsa ~ lcap + lemp', model=\"fd\", data=dat,\n",
    "                include_intercept=False, cov_method = \"robust\").fit()\n",
    "\n",
    "fd.summary()"
   ]
  },
  {
   "cell_type": "markdown",
   "metadata": {},
   "source": [
    "## Test for serial correlation"
   ]
  },
  {
   "cell_type": "markdown",
   "metadata": {},
   "source": [
    "We test for serial correlation by running the following pooled ols based on the FD residuals\n",
    "\n",
    "$$\\hat{e}_{it} = \\hat{\\rho}_1 \\hat{e}_{i,\\, t-1} + \\text{error}_{it}, \\;\\;\\;\\;\\;\\;\\;\\;\n",
    "    t=3,4,\\dots, T;i=1,2,\\dots,N.$$"
   ]
  },
  {
   "cell_type": "code",
   "execution_count": 4,
   "metadata": {},
   "outputs": [
    {
     "name": "stdout",
     "output_type": "stream",
     "text": [
      "             Results\n",
      "___________________________________\n",
      "‾‾‾‾‾‾‾‾‾‾‾‾‾‾‾‾‾‾‾‾‾‾‾‾‾‾‾‾‾‾‾‾‾‾‾\n",
      "Dependent variable: OLS residual, eᵢₜ\n",
      "\n",
      "       Beta          Se    t-values\n",
      "-----  ---------  -----  ----------\n",
      "eᵢₜ₋₁  -0.199***  0.015     -13.449\n",
      "___________________________________ \n",
      "\n",
      "R² = 0.039\n",
      "Adj R² = 0.039\n",
      "σ² = 0.014\n",
      "Model: Pooled OLS\n",
      "No. observations: 4410\n",
      "No. timeperiods: 1\n",
      "___________________________________\n",
      "‾‾‾‾‾‾‾‾‾‾‾‾‾‾‾‾‾‾‾‾‾‾‾‾‾‾‾‾‾‾‾‾‾‾‾\n",
      "Note: ∗p<0.1;∗∗p<0.05;∗∗∗p<0.01\n"
     ]
    }
   ],
   "source": [
    "from model_selection import serial_correlation\n",
    "#Extract the first-difference transformed data\n",
    "X_fd, y_fd = fd._exog, fd._dependent\n",
    "#Get len of unique timeperiods\n",
    "t = len(np.unique([i[1] for i in dat.index]))\n",
    "serial_correlation(y_fd, X_fd, t=t)"
   ]
  },
  {
   "cell_type": "markdown",
   "metadata": {},
   "source": [
    "## Wald-test of constant returns to scale"
   ]
  },
  {
   "cell_type": "markdown",
   "metadata": {},
   "source": [
    "Here we test the following hypothesis using the wald-test\n",
    "\n",
    "\\begin{align}\n",
    "    \\mathcal{H}^{FD}_0 &: \\beta_{k}^{FD} + \\beta_{\\ell}^{FD} = 1 \\\\\n",
    "\\label{eqn:fe_null}\n",
    "    \\mathcal{H}^{FE}_0 &: \\beta_{k}^{FE} + \\beta_{\\ell}^{FE} = 1\n",
    "\\end{align}\n",
    "\n",
    "where the test statistic is given by\n",
    "\n",
    "$$    W = (R \\mathbf{\\hat{\\beta}}-r)'(\\widehat{\\mathrm{Avar}}(\\hat{\\mathbf{\\beta}}))^{-1}(R\\mathbf{\\hat{\\beta}}-r)\n",
    "$$"
   ]
  },
  {
   "cell_type": "code",
   "execution_count": 5,
   "metadata": {},
   "outputs": [
    {
     "data": {
      "text/plain": [
       "array([[0.06296038],\n",
       "       [0.54866574]])"
      ]
     },
     "execution_count": 5,
     "metadata": {},
     "output_type": "execute_result"
    }
   ],
   "source": [
    "fd.results['b_hat']"
   ]
  },
  {
   "cell_type": "code",
   "execution_count": 6,
   "metadata": {},
   "outputs": [
    {
     "name": "stdout",
     "output_type": "stream",
     "text": [
      "            Results\n",
      "_________________________________\n",
      "‾‾‾‾‾‾‾‾‾‾‾‾‾‾‾‾‾‾‾‾‾‾‾‾‾‾‾‾‾‾‾‾‾\n",
      "Dependent variable: ldsa\n",
      "\n",
      "      Beta         Se    t-values\n",
      "----  --------  -----  ----------\n",
      "lcap  0.063***  0.023       2.746\n",
      "lemp  0.549***  0.028      19.306\n",
      "_________________________________ \n",
      "\n",
      "R² = 0.165\n",
      "Adj R² = 0.164\n",
      "σ² = 0.014\n",
      "Model: First-difference\n",
      "No. observations: 4851\n",
      "No. timeperiods: 12\n",
      "_________________________________\n",
      "‾‾‾‾‾‾‾‾‾‾‾‾‾‾‾‾‾‾‾‾‾‾‾‾‾‾‾‾‾‾‾‾‾\n",
      "Note: ∗p<0.1;∗∗p<0.05;∗∗∗p<0.01\n",
      "Heteroscedastic robust standard errors.\n"
     ]
    }
   ],
   "source": [
    "fd.summary()"
   ]
  },
  {
   "cell_type": "code",
   "execution_count": 7,
   "metadata": {},
   "outputs": [
    {
     "name": "stdout",
     "output_type": "stream",
     "text": [
      "First-difference\n",
      "----------------\n",
      "beta_k (0.0630) = beta_l (0.5487) -> p = 0.0000, W = 164.4890\n",
      "\n",
      "Fixed-effects\n",
      "--------------\n",
      "beta_k (0.1546) = beta_l (0.6942) -> p = 0.0000, W = 19.4029\n"
     ]
    }
   ],
   "source": [
    "#Setup the test\n",
    "R = np.ones(fd.results['b_hat'].shape[0]).reshape(1,-1)\n",
    "r = 1\n",
    "fd_W, fd_p = wald_test(fd.results['b_hat'], fd.results['cov'], R, r)\n",
    "fe_W ,fe_p = wald_test(fe.results['b_hat'], fe.results['cov'], R, r)\n",
    "print('First-difference\\n----------------')\n",
    "print(f\"beta_k ({fd.results['b_hat'][0][0]:.4f}) = beta_l ({fd.results['b_hat'][1][0]:.4f}) -> p = {fd_p[0][0]:.4f}, W = {fd_W[0][0]:4.4f}\")\n",
    "print('\\nFixed-effects\\n--------------')\n",
    "print(f\"beta_k ({fe.results['b_hat'][0][0]:.4f}) = beta_l ({fe.results['b_hat'][1][0]:.4f}) -> p = {fe_p[0][0]:.4f}, W = {fe_W[0][0]:4.4f}\")\n"
   ]
  },
  {
   "cell_type": "markdown",
   "metadata": {},
   "source": [
    "## Tests of strict exogenity"
   ]
  },
  {
   "cell_type": "markdown",
   "metadata": {},
   "source": [
    "### Hausman"
   ]
  },
  {
   "cell_type": "markdown",
   "metadata": {},
   "source": [
    "Because of limited space, the hausman test is not included in the paper. However, we include it here to show that the results are coherent with test including leads. The test statistic is given by\n",
    "\n",
    "\\begin{equation}\n",
    "H=\\left(\\hat{\\boldsymbol{\\beta}}_{FE}-\\hat{\\boldsymbol{\\beta}}_{FD}\\right)^{\\prime}\\left[\\mathrm{Avar}\\left(\\hat{\\boldsymbol{\\beta}}_{F E}\\right)-\\mathrm{Avar}\\left(\\hat{\\boldsymbol{\\beta}}_{FD}\\right)\\right]^{-1}\\left(\\hat{\\boldsymbol{\\beta}}_{FE}-\\hat{\\boldsymbol{\\beta}}_{FD}\\right)\n",
    "\\end{equation}"
   ]
  },
  {
   "cell_type": "markdown",
   "metadata": {},
   "source": [
    "The test is robust, in the sense that we do not assume FE.3 and FD.3 under the null."
   ]
  },
  {
   "cell_type": "code",
   "execution_count": 8,
   "metadata": {},
   "outputs": [
    {
     "name": "stdout",
     "output_type": "stream",
     "text": [
      "  b_fe    b_fd    b_diff\n",
      "------  ------  --------\n",
      "0.1546  0.0630    0.0917\n",
      "0.6942  0.5487    0.1456\n",
      "The Hausman test statistic is: 393.94, with p-value: 0.00.\n"
     ]
    }
   ],
   "source": [
    "#Run hausman test\n",
    "hausman_test(fe, fd, print_summary=True)"
   ]
  },
  {
   "cell_type": "markdown",
   "metadata": {},
   "source": [
    "### Including leads and lags"
   ]
  },
  {
   "cell_type": "markdown",
   "metadata": {},
   "source": [
    "Here we include leads to test for strict exogeneity \n",
    "\n",
    "\\begin{equation}\n",
    "\\ddot{y}_{i t} = \\mathbf{\\ddot{x}}_{i t}\\mathbf{\\beta} + \\mathbf{\\ddot{x}}_{i t+1}\\mathbf{\\delta} + \\ddot{u}_{i t}\n",
    "\\end{equation}"
   ]
  },
  {
   "cell_type": "code",
   "execution_count": 9,
   "metadata": {},
   "outputs": [
    {
     "name": "stdout",
     "output_type": "stream",
     "text": [
      "               Results\n",
      "______________________________________\n",
      "‾‾‾‾‾‾‾‾‾‾‾‾‾‾‾‾‾‾‾‾‾‾‾‾‾‾‾‾‾‾‾‾‾‾‾‾‾‾\n",
      "Dependent variable: ldsa\n",
      "\n",
      "           Beta         Se    t-values\n",
      "---------  --------  -----  ----------\n",
      "lcap       0.028     0.038       0.746\n",
      "lemp       0.541***  0.043      12.556\n",
      "lcap_lead  0.167***  0.046       3.651\n",
      "lemp_lead  0.142***  0.028       5.017\n",
      "______________________________________ \n",
      "\n",
      "R² = 0.478\n",
      "Adj R² = 0.478\n",
      "σ² = 0.016\n",
      "Model: Fixed effects\n",
      "No. observations: 4851\n",
      "No. timeperiods: 11\n",
      "______________________________________\n",
      "‾‾‾‾‾‾‾‾‾‾‾‾‾‾‾‾‾‾‾‾‾‾‾‾‾‾‾‾‾‾‾‾‾‾‾‾‾‾\n",
      "Note: ∗p<0.1;∗∗p<0.05;∗∗∗p<0.01\n",
      "Heteroscedastic robust standard errors.\n"
     ]
    }
   ],
   "source": [
    "#Define data for lead t+1\n",
    "dat_lead = dat.dropna(subset=['lemp_lead', 'lcap_lead'])\n",
    "\n",
    "fe_lead = PlmFormula(formula='ldsa ~ lcap + lemp + lcap_lead + lemp_lead', \n",
    "                      model=\"fe\", data=dat_lead,include_intercept=False, cov_method = \"robust\").fit()\n",
    "\n",
    "fe_lead.summary()"
   ]
  }
 ],
 "metadata": {
  "kernelspec": {
   "display_name": "Python 3 (ipykernel)",
   "language": "python",
   "name": "python3"
  },
  "language_info": {
   "codemirror_mode": {
    "name": "ipython",
    "version": 3
   },
   "file_extension": ".py",
   "mimetype": "text/x-python",
   "name": "python",
   "nbconvert_exporter": "python",
   "pygments_lexer": "ipython3",
   "version": "3.9.7"
  }
 },
 "nbformat": 4,
 "nbformat_minor": 4
}

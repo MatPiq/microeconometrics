{
 "cells": [
  {
   "cell_type": "markdown",
   "metadata": {},
   "source": [
    "# Project 1: Linear Panel Data and Production Technology\n",
    "\n",
    "\n",
    "This notebook contains the code to generate the output in *Project 1: Linear Panel Data and Production Technology*. All the code used to estimate models and do statistical tests is found in the repository: https://github.com/MatPiq/micropy. Please note that the models have been re-estimated in `R` to produce nicer looking tables and corresponding $\\LaTeX$ code. This code is found in the script `models.R`. The data, as given by the `read.ipynb` file, contains `N = 441` firms observed over `T = 12` years, 1968-1979. The variables are: \n",
    "* `lcap`: Log of capital stock, $k_{it}$ \n",
    "* `lemp`: log of employment, $\\ell_{it}$ \n",
    "* `ldsa`: log of deflated sales, $y_{it}$\n",
    "* `year`: the calendar year of the observation, `year` $ = 1968, ..., 1979$, \n",
    "* `firmid`: anonymized indicator variable for the firm, $i = 1, ..., N$, with $N=441$. "
   ]
  },
  {
   "cell_type": "code",
   "execution_count": 1,
   "metadata": {},
   "outputs": [],
   "source": [
    "#Add dir to import module\n",
    "import sys\n",
    "sys.path.insert(1, '/home/matiasp/University/m2/advanced_microeconometrics/micropy/')\n",
    "import pandas as pd\n",
    "from panel import PlmFormula\n",
    "from model_selection import hausman_test\n",
    "from utils import summary\n",
    "#Import data and set multi-index\n",
    "dat = pd.read_csv('firms.csv')\n",
    "dat = dat.set_index([\"firmid\", \"year\"])\n",
    "%load_ext autoreload\n",
    "%autoreload 2"
   ]
  },
  {
   "cell_type": "markdown",
   "metadata": {},
   "source": [
    "## Modeling"
   ]
  },
  {
   "cell_type": "markdown",
   "metadata": {},
   "source": [
    "We estimated the following models bellow:\n",
    "* `Pooled OLS Estimator`\n",
    "* `Fixed-Effects Estimator`\n",
    "* `First-Difference Estimator`\n",
    "* `Random Effects Estimator`"
   ]
  },
  {
   "cell_type": "code",
   "execution_count": 2,
   "metadata": {},
   "outputs": [
    {
     "name": "stdout",
     "output_type": "stream",
     "text": [
      "            Model Results\n",
      "______________________________________\n",
      "‾‾‾‾‾‾‾‾‾‾‾‾‾‾‾‾‾‾‾‾‾‾‾‾‾‾‾‾‾‾‾‾‾‾‾‾‾‾\n",
      "Dependent variable: ldsa\n",
      "\n",
      "           Beta         Se    t-values\n",
      "---------  --------  -----  ----------\n",
      "intercept  0.0       0.016       0.000\n",
      "lcap       0.31***   0.032       9.581\n",
      "lemp       0.675***  0.037      18.453\n",
      "______________________________________ \n",
      "\n",
      "R² = 0.914\n",
      "Adj R² = 0.914\n",
      "σ² = 0.131\n",
      "Model: Pooled OLS\n",
      "No. observations: 5292\n",
      "No. timeperiods: 12\n",
      "______________________________________\n",
      "‾‾‾‾‾‾‾‾‾‾‾‾‾‾‾‾‾‾‾‾‾‾‾‾‾‾‾‾‾‾‾‾‾‾‾‾‾‾\n",
      "Note: ∗p<0.1;∗∗p<0.05;∗∗∗p<0.01\n",
      "Heteroscedastic robust standard errors.\n"
     ]
    }
   ],
   "source": [
    "pols = PlmFormula(formula='ldsa ~ lcap + lemp', model=\"pools\", data=dat,\n",
    "                 include_intercept=True, cov_method = \"robust\").fit()\n",
    "\n",
    "pols.summary(title = 'Model Results')"
   ]
  },
  {
   "cell_type": "code",
   "execution_count": 3,
   "metadata": {},
   "outputs": [
    {
     "name": "stdout",
     "output_type": "stream",
     "text": [
      "            Results\n",
      "_________________________________\n",
      "‾‾‾‾‾‾‾‾‾‾‾‾‾‾‾‾‾‾‾‾‾‾‾‾‾‾‾‾‾‾‾‾‾\n",
      "Dependent variable: ldsa\n",
      "\n",
      "      Beta         Se    t-values\n",
      "----  --------  -----  ----------\n",
      "lcap  0.155***  0.030       5.163\n",
      "lemp  0.694***  0.042      16.667\n",
      "_________________________________ \n",
      "\n",
      "R² = 0.477\n",
      "Adj R² = 0.476\n",
      "σ² = 0.018\n",
      "Model: Fixed effects\n",
      "No. observations: 5292\n",
      "No. timeperiods: 12\n",
      "_________________________________\n",
      "‾‾‾‾‾‾‾‾‾‾‾‾‾‾‾‾‾‾‾‾‾‾‾‾‾‾‾‾‾‾‾‾‾\n",
      "Note: ∗p<0.1;∗∗p<0.05;∗∗∗p<0.01\n",
      "Heteroscedastic robust standard errors.\n"
     ]
    }
   ],
   "source": [
    "fe = PlmFormula(formula='ldsa ~ lcap + lemp', model=\"fe\", data=dat,\n",
    "                 include_intercept=False, cov_method = \"robust\").fit()\n",
    "\n",
    "fe.summary()"
   ]
  },
  {
   "cell_type": "code",
   "execution_count": 4,
   "metadata": {},
   "outputs": [
    {
     "name": "stdout",
     "output_type": "stream",
     "text": [
      "            Results\n",
      "_________________________________\n",
      "‾‾‾‾‾‾‾‾‾‾‾‾‾‾‾‾‾‾‾‾‾‾‾‾‾‾‾‾‾‾‾‾‾\n",
      "Dependent variable: ldsa\n",
      "\n",
      "      Beta         Se    t-values\n",
      "----  --------  -----  ----------\n",
      "lcap  0.063***  0.023       2.746\n",
      "lemp  0.549***  0.028      19.306\n",
      "_________________________________ \n",
      "\n",
      "R² = 0.165\n",
      "Adj R² = 0.164\n",
      "σ² = 0.014\n",
      "Model: First-difference\n",
      "No. observations: 4851\n",
      "No. timeperiods: 12\n",
      "_________________________________\n",
      "‾‾‾‾‾‾‾‾‾‾‾‾‾‾‾‾‾‾‾‾‾‾‾‾‾‾‾‾‾‾‾‾‾\n",
      "Note: ∗p<0.1;∗∗p<0.05;∗∗∗p<0.01\n",
      "Heteroscedastic robust standard errors.\n"
     ]
    }
   ],
   "source": [
    "fd = PlmFormula(formula='ldsa ~ lcap + lemp', model=\"fd\", data=dat,\n",
    "                include_intercept=False, cov_method = \"robust\").fit()\n",
    "\n",
    "fd.summary()"
   ]
  },
  {
   "cell_type": "code",
   "execution_count": 5,
   "metadata": {},
   "outputs": [
    {
     "name": "stdout",
     "output_type": "stream",
     "text": [
      "            Results\n",
      "_________________________________\n",
      "‾‾‾‾‾‾‾‾‾‾‾‾‾‾‾‾‾‾‾‾‾‾‾‾‾‾‾‾‾‾‾‾‾\n",
      "Dependent variable: ldsa\n",
      "\n",
      "      Beta         Se    t-values\n",
      "----  --------  -----  ----------\n",
      "lcap  0.201***  0.012      17.273\n",
      "lemp  0.72***   0.013      55.087\n",
      "_________________________________ \n",
      "\n",
      "R² = 0.651\n",
      "Adj R² = 0.651\n",
      "σ² = 0.018\n",
      "Model: Random effects\n",
      "No. observations: 5292\n",
      "No. timeperiods: 12\n",
      "_________________________________\n",
      "‾‾‾‾‾‾‾‾‾‾‾‾‾‾‾‾‾‾‾‾‾‾‾‾‾‾‾‾‾‾‾‾‾\n",
      "Note: ∗p<0.1;∗∗p<0.05;∗∗∗p<0.01\n"
     ]
    }
   ],
   "source": [
    "re = PlmFormula(formula='ldsa ~ lcap + lemp', model=\"re\", data=dat,\n",
    "                include_intercept=False).fit()\n",
    "\n",
    "re.summary()"
   ]
  },
  {
   "cell_type": "markdown",
   "metadata": {},
   "source": [
    "## Model Evaluation and Selection"
   ]
  }
 ],
 "metadata": {
  "kernelspec": {
   "display_name": "Python 3",
   "language": "python",
   "name": "python3"
  },
  "language_info": {
   "codemirror_mode": {
    "name": "ipython",
    "version": 3
   },
   "file_extension": ".py",
   "mimetype": "text/x-python",
   "name": "python",
   "nbconvert_exporter": "python",
   "pygments_lexer": "ipython3",
   "version": "3.8.5"
  }
 },
 "nbformat": 4,
 "nbformat_minor": 4
}
